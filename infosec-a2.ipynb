{
 "cells": [
  {
   "cell_type": "markdown",
   "id": "5966b1bb",
   "metadata": {
    "id": "5966b1bb"
   },
   "source": [
    "# Name: Abia Javed, Israa Batool"
   ]
  },
  {
   "cell_type": "markdown",
   "id": "fc3111ff",
   "metadata": {
    "id": "fc3111ff"
   },
   "source": [
    "# Roll No: 21I-0311, 21I-0344"
   ]
  },
  {
   "cell_type": "markdown",
   "id": "55bd7082",
   "metadata": {
    "id": "55bd7082"
   },
   "source": [
    "# Assignment No. 2"
   ]
  },
  {
   "cell_type": "markdown",
   "id": "f2392d11",
   "metadata": {
    "id": "f2392d11"
   },
   "source": [
    "# Classifying malicious types from URLs"
   ]
  },
  {
   "cell_type": "code",
   "execution_count": 1,
   "id": "9149603e",
   "metadata": {
    "execution": {
     "iopub.execute_input": "2025-04-15T06:22:28.598727Z",
     "iopub.status.busy": "2025-04-15T06:22:28.598473Z",
     "iopub.status.idle": "2025-04-15T06:22:28.857979Z",
     "shell.execute_reply": "2025-04-15T06:22:28.857427Z",
     "shell.execute_reply.started": "2025-04-15T06:22:28.598708Z"
    },
    "id": "9149603e"
   },
   "outputs": [],
   "source": [
    "# dataset is classified into five categories benign, defacement, phishing, malware, spams\n",
    "import pandas as pd"
   ]
  },
  {
   "cell_type": "code",
   "execution_count": 2,
   "id": "d20a382d",
   "metadata": {
    "colab": {
     "base_uri": "https://localhost:8080/",
     "height": 423
    },
    "execution": {
     "iopub.execute_input": "2025-04-15T06:22:29.719171Z",
     "iopub.status.busy": "2025-04-15T06:22:29.718448Z",
     "iopub.status.idle": "2025-04-15T06:22:31.173561Z",
     "shell.execute_reply": "2025-04-15T06:22:31.172876Z",
     "shell.execute_reply.started": "2025-04-15T06:22:29.719148Z"
    },
    "id": "d20a382d",
    "outputId": "897f76b8-a84c-4ad5-ff57-81f5c800b261"
   },
   "outputs": [
    {
     "data": {
      "text/html": [
       "<div>\n",
       "<style scoped>\n",
       "    .dataframe tbody tr th:only-of-type {\n",
       "        vertical-align: middle;\n",
       "    }\n",
       "\n",
       "    .dataframe tbody tr th {\n",
       "        vertical-align: top;\n",
       "    }\n",
       "\n",
       "    .dataframe thead th {\n",
       "        text-align: right;\n",
       "    }\n",
       "</style>\n",
       "<table border=\"1\" class=\"dataframe\">\n",
       "  <thead>\n",
       "    <tr style=\"text-align: right;\">\n",
       "      <th></th>\n",
       "      <th>url</th>\n",
       "      <th>type</th>\n",
       "    </tr>\n",
       "  </thead>\n",
       "  <tbody>\n",
       "    <tr>\n",
       "      <th>0</th>\n",
       "      <td>br-icloud.com.br</td>\n",
       "      <td>phishing</td>\n",
       "    </tr>\n",
       "    <tr>\n",
       "      <th>1</th>\n",
       "      <td>mp3raid.com/music/krizz_kaliko.html</td>\n",
       "      <td>benign</td>\n",
       "    </tr>\n",
       "    <tr>\n",
       "      <th>2</th>\n",
       "      <td>bopsecrets.org/rexroth/cr/1.htm</td>\n",
       "      <td>benign</td>\n",
       "    </tr>\n",
       "    <tr>\n",
       "      <th>3</th>\n",
       "      <td>http://www.garage-pirenne.be/index.php?option=...</td>\n",
       "      <td>defacement</td>\n",
       "    </tr>\n",
       "    <tr>\n",
       "      <th>4</th>\n",
       "      <td>http://adventure-nicaragua.net/index.php?optio...</td>\n",
       "      <td>defacement</td>\n",
       "    </tr>\n",
       "    <tr>\n",
       "      <th>...</th>\n",
       "      <td>...</td>\n",
       "      <td>...</td>\n",
       "    </tr>\n",
       "    <tr>\n",
       "      <th>651186</th>\n",
       "      <td>xbox360.ign.com/objects/850/850402.html</td>\n",
       "      <td>phishing</td>\n",
       "    </tr>\n",
       "    <tr>\n",
       "      <th>651187</th>\n",
       "      <td>games.teamxbox.com/xbox-360/1860/Dead-Space/</td>\n",
       "      <td>phishing</td>\n",
       "    </tr>\n",
       "    <tr>\n",
       "      <th>651188</th>\n",
       "      <td>www.gamespot.com/xbox360/action/deadspace/</td>\n",
       "      <td>phishing</td>\n",
       "    </tr>\n",
       "    <tr>\n",
       "      <th>651189</th>\n",
       "      <td>en.wikipedia.org/wiki/Dead_Space_(video_game)</td>\n",
       "      <td>phishing</td>\n",
       "    </tr>\n",
       "    <tr>\n",
       "      <th>651190</th>\n",
       "      <td>www.angelfire.com/goth/devilmaycrytonite/</td>\n",
       "      <td>phishing</td>\n",
       "    </tr>\n",
       "  </tbody>\n",
       "</table>\n",
       "<p>651191 rows × 2 columns</p>\n",
       "</div>"
      ],
      "text/plain": [
       "                                                      url        type\n",
       "0                                        br-icloud.com.br    phishing\n",
       "1                     mp3raid.com/music/krizz_kaliko.html      benign\n",
       "2                         bopsecrets.org/rexroth/cr/1.htm      benign\n",
       "3       http://www.garage-pirenne.be/index.php?option=...  defacement\n",
       "4       http://adventure-nicaragua.net/index.php?optio...  defacement\n",
       "...                                                   ...         ...\n",
       "651186            xbox360.ign.com/objects/850/850402.html    phishing\n",
       "651187       games.teamxbox.com/xbox-360/1860/Dead-Space/    phishing\n",
       "651188         www.gamespot.com/xbox360/action/deadspace/    phishing\n",
       "651189      en.wikipedia.org/wiki/Dead_Space_(video_game)    phishing\n",
       "651190          www.angelfire.com/goth/devilmaycrytonite/    phishing\n",
       "\n",
       "[651191 rows x 2 columns]"
      ]
     },
     "execution_count": 2,
     "metadata": {},
     "output_type": "execute_result"
    }
   ],
   "source": [
    "#read the main dataset\n",
    "import pandas as pd\n",
    "main_file = pd.read_csv(r\"/kaggle/input/dataset/malicious_phish.csv\")\n",
    "main_file"
   ]
  },
  {
   "cell_type": "markdown",
   "id": "e9b82c6c",
   "metadata": {
    "id": "e9b82c6c"
   },
   "source": [
    "# Data Merging"
   ]
  },
  {
   "cell_type": "code",
   "execution_count": 3,
   "id": "63613617",
   "metadata": {
    "colab": {
     "base_uri": "https://localhost:8080/",
     "height": 423
    },
    "execution": {
     "iopub.execute_input": "2025-04-15T06:22:40.752937Z",
     "iopub.status.busy": "2025-04-15T06:22:40.752691Z",
     "iopub.status.idle": "2025-04-15T06:22:41.710990Z",
     "shell.execute_reply": "2025-04-15T06:22:41.710447Z",
     "shell.execute_reply.started": "2025-04-15T06:22:40.752920Z"
    },
    "id": "63613617",
    "outputId": "2c345aa3-d2b6-42cd-a3c7-cec2342a7e2c"
   },
   "outputs": [
    {
     "data": {
      "text/html": [
       "<div>\n",
       "<style scoped>\n",
       "    .dataframe tbody tr th:only-of-type {\n",
       "        vertical-align: middle;\n",
       "    }\n",
       "\n",
       "    .dataframe tbody tr th {\n",
       "        vertical-align: top;\n",
       "    }\n",
       "\n",
       "    .dataframe thead th {\n",
       "        text-align: right;\n",
       "    }\n",
       "</style>\n",
       "<table border=\"1\" class=\"dataframe\">\n",
       "  <thead>\n",
       "    <tr style=\"text-align: right;\">\n",
       "      <th></th>\n",
       "      <th>url</th>\n",
       "      <th>type</th>\n",
       "    </tr>\n",
       "  </thead>\n",
       "  <tbody>\n",
       "    <tr>\n",
       "      <th>0</th>\n",
       "      <td>http://1337x.to/torrent/1048648/American-Snipe...</td>\n",
       "      <td>benign</td>\n",
       "    </tr>\n",
       "    <tr>\n",
       "      <th>1</th>\n",
       "      <td>http://1337x.to/torrent/1110018/Blackhat-2015-...</td>\n",
       "      <td>benign</td>\n",
       "    </tr>\n",
       "    <tr>\n",
       "      <th>2</th>\n",
       "      <td>http://1337x.to/torrent/1122940/Blackhat-2015-...</td>\n",
       "      <td>benign</td>\n",
       "    </tr>\n",
       "    <tr>\n",
       "      <th>3</th>\n",
       "      <td>http://1337x.to/torrent/1124395/Fast-and-Furio...</td>\n",
       "      <td>benign</td>\n",
       "    </tr>\n",
       "    <tr>\n",
       "      <th>4</th>\n",
       "      <td>http://1337x.to/torrent/1145504/Avengers-Age-o...</td>\n",
       "      <td>benign</td>\n",
       "    </tr>\n",
       "    <tr>\n",
       "      <th>...</th>\n",
       "      <td>...</td>\n",
       "      <td>...</td>\n",
       "    </tr>\n",
       "    <tr>\n",
       "      <th>99995</th>\n",
       "      <td>http://www.ccent.com.au/index.php?view=article...</td>\n",
       "      <td>defacement</td>\n",
       "    </tr>\n",
       "    <tr>\n",
       "      <th>99996</th>\n",
       "      <td>http://www.ccent.com.au/index.php?option=com_c...</td>\n",
       "      <td>defacement</td>\n",
       "    </tr>\n",
       "    <tr>\n",
       "      <th>99997</th>\n",
       "      <td>http://www.ccent.com.au/index.php?option=com_m...</td>\n",
       "      <td>defacement</td>\n",
       "    </tr>\n",
       "    <tr>\n",
       "      <th>99998</th>\n",
       "      <td>http://www.ccent.com.au/index.php?view=article...</td>\n",
       "      <td>defacement</td>\n",
       "    </tr>\n",
       "    <tr>\n",
       "      <th>99999</th>\n",
       "      <td>http://www.ccent.com.au/index.php?option=com_c...</td>\n",
       "      <td>defacement</td>\n",
       "    </tr>\n",
       "  </tbody>\n",
       "</table>\n",
       "<p>100000 rows × 2 columns</p>\n",
       "</div>"
      ],
      "text/plain": [
       "                                                     url        type\n",
       "0      http://1337x.to/torrent/1048648/American-Snipe...      benign\n",
       "1      http://1337x.to/torrent/1110018/Blackhat-2015-...      benign\n",
       "2      http://1337x.to/torrent/1122940/Blackhat-2015-...      benign\n",
       "3      http://1337x.to/torrent/1124395/Fast-and-Furio...      benign\n",
       "4      http://1337x.to/torrent/1145504/Avengers-Age-o...      benign\n",
       "...                                                  ...         ...\n",
       "99995  http://www.ccent.com.au/index.php?view=article...  defacement\n",
       "99996  http://www.ccent.com.au/index.php?option=com_c...  defacement\n",
       "99997  http://www.ccent.com.au/index.php?option=com_m...  defacement\n",
       "99998  http://www.ccent.com.au/index.php?view=article...  defacement\n",
       "99999  http://www.ccent.com.au/index.php?option=com_c...  defacement\n",
       "\n",
       "[100000 rows x 2 columns]"
      ]
     },
     "execution_count": 3,
     "metadata": {},
     "output_type": "execute_result"
    }
   ],
   "source": [
    "file_paths = [\n",
    "    (r\"/kaggle/input/assignment02/Benign_list_big_final.csv\", \"benign\"),\n",
    "    (r\"/kaggle/input/assignment02/DefacementSitesURLFiltered.csv\", \"defacement\"),\n",
    "    (r\"/kaggle/input/assignment02/Malware_dataset.csv\", \"malware\"),\n",
    "    (r\"/kaggle/input/assignment02/phishing_dataset.csv\", \"phishing\"),\n",
    "    (r\"/kaggle/input/assignment02/spam_dataset.csv\", \"spams\")\n",
    "]\n",
    "\n",
    "\n",
    "# Initialize an empty list to store dataframes\n",
    "dfs = []\n",
    "\n",
    "# Iterate through the file paths and types\n",
    "for file_path, url_type in file_paths:\n",
    "    # Read the CSV file\n",
    "    df = pd.read_csv(file_path, header=None)\n",
    "    # Assign column names\n",
    "    df.columns = [\"url\"]\n",
    "    # Add a column for the URL type\n",
    "    df[\"type\"] = url_type\n",
    "    # Append the dataframe to the list\n",
    "    dfs.append(df)\n",
    "\n",
    "dfs.append(main_file)\n",
    "# Concatenate the list of dataframes into a single dataframe\n",
    "merged_df = pd.concat(dfs, ignore_index=True)\n",
    "merged_df.drop_duplicates(inplace=True)\n",
    "merged_df.reset_index(drop=True, inplace=True)\n",
    "merged_df.head(100000)"
   ]
  },
  {
   "cell_type": "code",
   "execution_count": 4,
   "id": "7b2ec888",
   "metadata": {
    "colab": {
     "base_uri": "https://localhost:8080/",
     "height": 423
    },
    "execution": {
     "iopub.execute_input": "2025-04-15T06:22:41.772992Z",
     "iopub.status.busy": "2025-04-15T06:22:41.772760Z",
     "iopub.status.idle": "2025-04-15T06:22:41.781005Z",
     "shell.execute_reply": "2025-04-15T06:22:41.780325Z",
     "shell.execute_reply.started": "2025-04-15T06:22:41.772975Z"
    },
    "id": "7b2ec888",
    "outputId": "cb547ab3-931e-44e0-bdc6-73a44e3decbd"
   },
   "outputs": [
    {
     "data": {
      "text/html": [
       "<div>\n",
       "<style scoped>\n",
       "    .dataframe tbody tr th:only-of-type {\n",
       "        vertical-align: middle;\n",
       "    }\n",
       "\n",
       "    .dataframe tbody tr th {\n",
       "        vertical-align: top;\n",
       "    }\n",
       "\n",
       "    .dataframe thead th {\n",
       "        text-align: right;\n",
       "    }\n",
       "</style>\n",
       "<table border=\"1\" class=\"dataframe\">\n",
       "  <thead>\n",
       "    <tr style=\"text-align: right;\">\n",
       "      <th></th>\n",
       "      <th>url</th>\n",
       "      <th>type</th>\n",
       "    </tr>\n",
       "  </thead>\n",
       "  <tbody>\n",
       "    <tr>\n",
       "      <th>0</th>\n",
       "      <td>http://1337x.to/torrent/1048648/American-Snipe...</td>\n",
       "      <td>benign</td>\n",
       "    </tr>\n",
       "    <tr>\n",
       "      <th>1</th>\n",
       "      <td>http://1337x.to/torrent/1110018/Blackhat-2015-...</td>\n",
       "      <td>benign</td>\n",
       "    </tr>\n",
       "    <tr>\n",
       "      <th>2</th>\n",
       "      <td>http://1337x.to/torrent/1122940/Blackhat-2015-...</td>\n",
       "      <td>benign</td>\n",
       "    </tr>\n",
       "    <tr>\n",
       "      <th>3</th>\n",
       "      <td>http://1337x.to/torrent/1124395/Fast-and-Furio...</td>\n",
       "      <td>benign</td>\n",
       "    </tr>\n",
       "    <tr>\n",
       "      <th>4</th>\n",
       "      <td>http://1337x.to/torrent/1145504/Avengers-Age-o...</td>\n",
       "      <td>benign</td>\n",
       "    </tr>\n",
       "    <tr>\n",
       "      <th>...</th>\n",
       "      <td>...</td>\n",
       "      <td>...</td>\n",
       "    </tr>\n",
       "    <tr>\n",
       "      <th>653041</th>\n",
       "      <td>xbox360.ign.com/objects/850/850402.html</td>\n",
       "      <td>phishing</td>\n",
       "    </tr>\n",
       "    <tr>\n",
       "      <th>653042</th>\n",
       "      <td>games.teamxbox.com/xbox-360/1860/Dead-Space/</td>\n",
       "      <td>phishing</td>\n",
       "    </tr>\n",
       "    <tr>\n",
       "      <th>653043</th>\n",
       "      <td>www.gamespot.com/xbox360/action/deadspace/</td>\n",
       "      <td>phishing</td>\n",
       "    </tr>\n",
       "    <tr>\n",
       "      <th>653044</th>\n",
       "      <td>en.wikipedia.org/wiki/Dead_Space_(video_game)</td>\n",
       "      <td>phishing</td>\n",
       "    </tr>\n",
       "    <tr>\n",
       "      <th>653045</th>\n",
       "      <td>www.angelfire.com/goth/devilmaycrytonite/</td>\n",
       "      <td>phishing</td>\n",
       "    </tr>\n",
       "  </tbody>\n",
       "</table>\n",
       "<p>653046 rows × 2 columns</p>\n",
       "</div>"
      ],
      "text/plain": [
       "                                                      url      type\n",
       "0       http://1337x.to/torrent/1048648/American-Snipe...    benign\n",
       "1       http://1337x.to/torrent/1110018/Blackhat-2015-...    benign\n",
       "2       http://1337x.to/torrent/1122940/Blackhat-2015-...    benign\n",
       "3       http://1337x.to/torrent/1124395/Fast-and-Furio...    benign\n",
       "4       http://1337x.to/torrent/1145504/Avengers-Age-o...    benign\n",
       "...                                                   ...       ...\n",
       "653041            xbox360.ign.com/objects/850/850402.html  phishing\n",
       "653042       games.teamxbox.com/xbox-360/1860/Dead-Space/  phishing\n",
       "653043         www.gamespot.com/xbox360/action/deadspace/  phishing\n",
       "653044      en.wikipedia.org/wiki/Dead_Space_(video_game)  phishing\n",
       "653045          www.angelfire.com/goth/devilmaycrytonite/  phishing\n",
       "\n",
       "[653046 rows x 2 columns]"
      ]
     },
     "execution_count": 4,
     "metadata": {},
     "output_type": "execute_result"
    }
   ],
   "source": [
    "merged_df"
   ]
  },
  {
   "cell_type": "markdown",
   "id": "30ec72dd",
   "metadata": {
    "id": "30ec72dd"
   },
   "source": [
    "# Preprocessing"
   ]
  },
  {
   "cell_type": "code",
   "execution_count": 5,
   "id": "f0faf542",
   "metadata": {
    "colab": {
     "base_uri": "https://localhost:8080/"
    },
    "execution": {
     "iopub.execute_input": "2025-04-15T06:22:48.016309Z",
     "iopub.status.busy": "2025-04-15T06:22:48.016015Z",
     "iopub.status.idle": "2025-04-15T06:22:48.508439Z",
     "shell.execute_reply": "2025-04-15T06:22:48.507677Z",
     "shell.execute_reply.started": "2025-04-15T06:22:48.016258Z"
    },
    "id": "f0faf542",
    "outputId": "e311f88b-2d36-42b8-c9cc-6bea615d4e11"
   },
   "outputs": [
    {
     "name": "stdout",
     "output_type": "stream",
     "text": [
      "Missing values before cleaning:\n",
      " url     0\n",
      "type    0\n",
      "dtype: int64\n",
      "\n",
      "Missing values after cleaning:\n",
      " url     0\n",
      "type    0\n",
      "dtype: int64\n"
     ]
    }
   ],
   "source": [
    "import pandas as pd\n",
    "import numpy as np\n",
    "print(\"Missing values before cleaning:\\n\", merged_df.isnull().sum())\n",
    "merged_df.fillna(\"unknown\", inplace=True)\n",
    "merged_df.drop_duplicates(inplace=True)\n",
    "merged_df.reset_index(drop=True, inplace=True)\n",
    "print(\"\\nMissing values after cleaning:\\n\", merged_df.isnull().sum())\n"
   ]
  },
  {
   "cell_type": "code",
   "execution_count": 6,
   "id": "681bd03d",
   "metadata": {
    "colab": {
     "base_uri": "https://localhost:8080/",
     "height": 423
    },
    "execution": {
     "iopub.execute_input": "2025-04-15T06:22:51.785296Z",
     "iopub.status.busy": "2025-04-15T06:22:51.784754Z",
     "iopub.status.idle": "2025-04-15T06:22:52.395402Z",
     "shell.execute_reply": "2025-04-15T06:22:52.394737Z",
     "shell.execute_reply.started": "2025-04-15T06:22:51.785259Z"
    },
    "id": "681bd03d",
    "outputId": "252b8738-3a89-438c-9628-3b4612aab6c7"
   },
   "outputs": [
    {
     "data": {
      "text/html": [
       "<div>\n",
       "<style scoped>\n",
       "    .dataframe tbody tr th:only-of-type {\n",
       "        vertical-align: middle;\n",
       "    }\n",
       "\n",
       "    .dataframe tbody tr th {\n",
       "        vertical-align: top;\n",
       "    }\n",
       "\n",
       "    .dataframe thead th {\n",
       "        text-align: right;\n",
       "    }\n",
       "</style>\n",
       "<table border=\"1\" class=\"dataframe\">\n",
       "  <thead>\n",
       "    <tr style=\"text-align: right;\">\n",
       "      <th></th>\n",
       "      <th>url</th>\n",
       "      <th>type</th>\n",
       "      <th>type_encoded</th>\n",
       "    </tr>\n",
       "  </thead>\n",
       "  <tbody>\n",
       "    <tr>\n",
       "      <th>0</th>\n",
       "      <td>http://1337x.to/torrent/1048648/American-Snipe...</td>\n",
       "      <td>benign</td>\n",
       "      <td>0</td>\n",
       "    </tr>\n",
       "    <tr>\n",
       "      <th>1</th>\n",
       "      <td>http://1337x.to/torrent/1110018/Blackhat-2015-...</td>\n",
       "      <td>benign</td>\n",
       "      <td>0</td>\n",
       "    </tr>\n",
       "    <tr>\n",
       "      <th>2</th>\n",
       "      <td>http://1337x.to/torrent/1122940/Blackhat-2015-...</td>\n",
       "      <td>benign</td>\n",
       "      <td>0</td>\n",
       "    </tr>\n",
       "    <tr>\n",
       "      <th>3</th>\n",
       "      <td>http://1337x.to/torrent/1124395/Fast-and-Furio...</td>\n",
       "      <td>benign</td>\n",
       "      <td>0</td>\n",
       "    </tr>\n",
       "    <tr>\n",
       "      <th>4</th>\n",
       "      <td>http://1337x.to/torrent/1145504/Avengers-Age-o...</td>\n",
       "      <td>benign</td>\n",
       "      <td>0</td>\n",
       "    </tr>\n",
       "    <tr>\n",
       "      <th>...</th>\n",
       "      <td>...</td>\n",
       "      <td>...</td>\n",
       "      <td>...</td>\n",
       "    </tr>\n",
       "    <tr>\n",
       "      <th>653041</th>\n",
       "      <td>xbox360.ign.com/objects/850/850402.html</td>\n",
       "      <td>phishing</td>\n",
       "      <td>3</td>\n",
       "    </tr>\n",
       "    <tr>\n",
       "      <th>653042</th>\n",
       "      <td>games.teamxbox.com/xbox-360/1860/Dead-Space/</td>\n",
       "      <td>phishing</td>\n",
       "      <td>3</td>\n",
       "    </tr>\n",
       "    <tr>\n",
       "      <th>653043</th>\n",
       "      <td>www.gamespot.com/xbox360/action/deadspace/</td>\n",
       "      <td>phishing</td>\n",
       "      <td>3</td>\n",
       "    </tr>\n",
       "    <tr>\n",
       "      <th>653044</th>\n",
       "      <td>en.wikipedia.org/wiki/Dead_Space_(video_game)</td>\n",
       "      <td>phishing</td>\n",
       "      <td>3</td>\n",
       "    </tr>\n",
       "    <tr>\n",
       "      <th>653045</th>\n",
       "      <td>www.angelfire.com/goth/devilmaycrytonite/</td>\n",
       "      <td>phishing</td>\n",
       "      <td>3</td>\n",
       "    </tr>\n",
       "  </tbody>\n",
       "</table>\n",
       "<p>653046 rows × 3 columns</p>\n",
       "</div>"
      ],
      "text/plain": [
       "                                                      url      type  \\\n",
       "0       http://1337x.to/torrent/1048648/American-Snipe...    benign   \n",
       "1       http://1337x.to/torrent/1110018/Blackhat-2015-...    benign   \n",
       "2       http://1337x.to/torrent/1122940/Blackhat-2015-...    benign   \n",
       "3       http://1337x.to/torrent/1124395/Fast-and-Furio...    benign   \n",
       "4       http://1337x.to/torrent/1145504/Avengers-Age-o...    benign   \n",
       "...                                                   ...       ...   \n",
       "653041            xbox360.ign.com/objects/850/850402.html  phishing   \n",
       "653042       games.teamxbox.com/xbox-360/1860/Dead-Space/  phishing   \n",
       "653043         www.gamespot.com/xbox360/action/deadspace/  phishing   \n",
       "653044      en.wikipedia.org/wiki/Dead_Space_(video_game)  phishing   \n",
       "653045          www.angelfire.com/goth/devilmaycrytonite/  phishing   \n",
       "\n",
       "        type_encoded  \n",
       "0                  0  \n",
       "1                  0  \n",
       "2                  0  \n",
       "3                  0  \n",
       "4                  0  \n",
       "...              ...  \n",
       "653041             3  \n",
       "653042             3  \n",
       "653043             3  \n",
       "653044             3  \n",
       "653045             3  \n",
       "\n",
       "[653046 rows x 3 columns]"
      ]
     },
     "execution_count": 6,
     "metadata": {},
     "output_type": "execute_result"
    }
   ],
   "source": [
    "#encode categorical variables\n",
    "from sklearn.preprocessing import LabelEncoder\n",
    "\n",
    "# Encode the 'type' column\n",
    "le = LabelEncoder()\n",
    "merged_df['type_encoded'] = le.fit_transform(merged_df['type'])\n",
    "merged_df"
   ]
  },
  {
   "cell_type": "markdown",
   "id": "49fce491",
   "metadata": {
    "id": "49fce491"
   },
   "source": [
    "# Balancing the dataset"
   ]
  },
  {
   "cell_type": "code",
   "execution_count": 7,
   "id": "5fcf73c5",
   "metadata": {
    "colab": {
     "base_uri": "https://localhost:8080/"
    },
    "execution": {
     "iopub.execute_input": "2025-04-15T06:22:57.840878Z",
     "iopub.status.busy": "2025-04-15T06:22:57.840224Z",
     "iopub.status.idle": "2025-04-15T06:23:01.599291Z",
     "shell.execute_reply": "2025-04-15T06:23:01.598324Z",
     "shell.execute_reply.started": "2025-04-15T06:22:57.840854Z"
    },
    "id": "5fcf73c5",
    "outputId": "2648c33e-7446-4f47-8b7c-7475c3cf60f8"
   },
   "outputs": [
    {
     "name": "stdout",
     "output_type": "stream",
     "text": [
      "Requirement already satisfied: scikit-learn in /usr/local/lib/python3.11/dist-packages (1.2.2)\n",
      "Requirement already satisfied: numpy>=1.17.3 in /usr/local/lib/python3.11/dist-packages (from scikit-learn) (1.26.4)\n",
      "Requirement already satisfied: scipy>=1.3.2 in /usr/local/lib/python3.11/dist-packages (from scikit-learn) (1.15.2)\n",
      "Requirement already satisfied: joblib>=1.1.1 in /usr/local/lib/python3.11/dist-packages (from scikit-learn) (1.4.2)\n",
      "Requirement already satisfied: threadpoolctl>=2.0.0 in /usr/local/lib/python3.11/dist-packages (from scikit-learn) (3.6.0)\n",
      "Requirement already satisfied: mkl_fft in /usr/local/lib/python3.11/dist-packages (from numpy>=1.17.3->scikit-learn) (1.3.8)\n",
      "Requirement already satisfied: mkl_random in /usr/local/lib/python3.11/dist-packages (from numpy>=1.17.3->scikit-learn) (1.2.4)\n",
      "Requirement already satisfied: mkl_umath in /usr/local/lib/python3.11/dist-packages (from numpy>=1.17.3->scikit-learn) (0.1.1)\n",
      "Requirement already satisfied: mkl in /usr/local/lib/python3.11/dist-packages (from numpy>=1.17.3->scikit-learn) (2025.1.0)\n",
      "Requirement already satisfied: tbb4py in /usr/local/lib/python3.11/dist-packages (from numpy>=1.17.3->scikit-learn) (2022.1.0)\n",
      "Requirement already satisfied: mkl-service in /usr/local/lib/python3.11/dist-packages (from numpy>=1.17.3->scikit-learn) (2.4.1)\n",
      "Requirement already satisfied: intel-openmp<2026,>=2024 in /usr/local/lib/python3.11/dist-packages (from mkl->numpy>=1.17.3->scikit-learn) (2024.2.0)\n",
      "Requirement already satisfied: tbb==2022.* in /usr/local/lib/python3.11/dist-packages (from mkl->numpy>=1.17.3->scikit-learn) (2022.1.0)\n",
      "Requirement already satisfied: tcmlib==1.* in /usr/local/lib/python3.11/dist-packages (from tbb==2022.*->mkl->numpy>=1.17.3->scikit-learn) (1.2.0)\n",
      "Requirement already satisfied: intel-cmplr-lib-rt in /usr/local/lib/python3.11/dist-packages (from mkl_umath->numpy>=1.17.3->scikit-learn) (2024.2.0)\n",
      "Requirement already satisfied: intel-cmplr-lib-ur==2024.2.0 in /usr/local/lib/python3.11/dist-packages (from intel-openmp<2026,>=2024->mkl->numpy>=1.17.3->scikit-learn) (2024.2.0)\n"
     ]
    }
   ],
   "source": [
    "\n",
    "!pip install scikit-learn"
   ]
  },
  {
   "cell_type": "code",
   "execution_count": 8,
   "id": "7f98998b",
   "metadata": {
    "colab": {
     "base_uri": "https://localhost:8080/"
    },
    "execution": {
     "iopub.execute_input": "2025-04-15T06:23:01.600997Z",
     "iopub.status.busy": "2025-04-15T06:23:01.600740Z",
     "iopub.status.idle": "2025-04-15T06:23:08.008385Z",
     "shell.execute_reply": "2025-04-15T06:23:08.007654Z",
     "shell.execute_reply.started": "2025-04-15T06:23:01.600974Z"
    },
    "id": "7f98998b",
    "outputId": "e7f46148-36d8-44dd-f2f7-738cc4ffb4d3"
   },
   "outputs": [
    {
     "name": "stdout",
     "output_type": "stream",
     "text": [
      "Requirement already satisfied: scikit-learn in /usr/local/lib/python3.11/dist-packages (1.2.2)\n",
      "Collecting scikit-learn\n",
      "  Downloading scikit_learn-1.6.1-cp311-cp311-manylinux_2_17_x86_64.manylinux2014_x86_64.whl.metadata (18 kB)\n",
      "Requirement already satisfied: imbalanced-learn in /usr/local/lib/python3.11/dist-packages (0.13.0)\n",
      "Requirement already satisfied: numpy>=1.19.5 in /usr/local/lib/python3.11/dist-packages (from scikit-learn) (1.26.4)\n",
      "Requirement already satisfied: scipy>=1.6.0 in /usr/local/lib/python3.11/dist-packages (from scikit-learn) (1.15.2)\n",
      "Requirement already satisfied: joblib>=1.2.0 in /usr/local/lib/python3.11/dist-packages (from scikit-learn) (1.4.2)\n",
      "Requirement already satisfied: threadpoolctl>=3.1.0 in /usr/local/lib/python3.11/dist-packages (from scikit-learn) (3.6.0)\n",
      "Requirement already satisfied: sklearn-compat<1,>=0.1 in /usr/local/lib/python3.11/dist-packages (from imbalanced-learn) (0.1.3)\n",
      "Requirement already satisfied: mkl_fft in /usr/local/lib/python3.11/dist-packages (from numpy>=1.19.5->scikit-learn) (1.3.8)\n",
      "Requirement already satisfied: mkl_random in /usr/local/lib/python3.11/dist-packages (from numpy>=1.19.5->scikit-learn) (1.2.4)\n",
      "Requirement already satisfied: mkl_umath in /usr/local/lib/python3.11/dist-packages (from numpy>=1.19.5->scikit-learn) (0.1.1)\n",
      "Requirement already satisfied: mkl in /usr/local/lib/python3.11/dist-packages (from numpy>=1.19.5->scikit-learn) (2025.1.0)\n",
      "Requirement already satisfied: tbb4py in /usr/local/lib/python3.11/dist-packages (from numpy>=1.19.5->scikit-learn) (2022.1.0)\n",
      "Requirement already satisfied: mkl-service in /usr/local/lib/python3.11/dist-packages (from numpy>=1.19.5->scikit-learn) (2.4.1)\n",
      "Requirement already satisfied: intel-openmp<2026,>=2024 in /usr/local/lib/python3.11/dist-packages (from mkl->numpy>=1.19.5->scikit-learn) (2024.2.0)\n",
      "Requirement already satisfied: tbb==2022.* in /usr/local/lib/python3.11/dist-packages (from mkl->numpy>=1.19.5->scikit-learn) (2022.1.0)\n",
      "Requirement already satisfied: tcmlib==1.* in /usr/local/lib/python3.11/dist-packages (from tbb==2022.*->mkl->numpy>=1.19.5->scikit-learn) (1.2.0)\n",
      "Requirement already satisfied: intel-cmplr-lib-rt in /usr/local/lib/python3.11/dist-packages (from mkl_umath->numpy>=1.19.5->scikit-learn) (2024.2.0)\n",
      "Requirement already satisfied: intel-cmplr-lib-ur==2024.2.0 in /usr/local/lib/python3.11/dist-packages (from intel-openmp<2026,>=2024->mkl->numpy>=1.19.5->scikit-learn) (2024.2.0)\n",
      "Downloading scikit_learn-1.6.1-cp311-cp311-manylinux_2_17_x86_64.manylinux2014_x86_64.whl (13.5 MB)\n",
      "\u001b[2K   \u001b[90m━━━━━━━━━━━━━━━━━━━━━━━━━━━━━━━━━━━━━━━━\u001b[0m \u001b[32m13.5/13.5 MB\u001b[0m \u001b[31m104.9 MB/s\u001b[0m eta \u001b[36m0:00:00\u001b[0m00:01\u001b[0m:01\u001b[0m\n",
      "\u001b[?25hInstalling collected packages: scikit-learn\n",
      "  Attempting uninstall: scikit-learn\n",
      "    Found existing installation: scikit-learn 1.2.2\n",
      "    Uninstalling scikit-learn-1.2.2:\n",
      "      Successfully uninstalled scikit-learn-1.2.2\n",
      "\u001b[31mERROR: pip's dependency resolver does not currently take into account all the packages that are installed. This behaviour is the source of the following dependency conflicts.\n",
      "category-encoders 2.7.0 requires scikit-learn<1.6.0,>=1.0.0, but you have scikit-learn 1.6.1 which is incompatible.\n",
      "bigframes 1.36.0 requires rich<14,>=12.4.4, but you have rich 14.0.0 which is incompatible.\u001b[0m\u001b[31m\n",
      "\u001b[0mSuccessfully installed scikit-learn-1.6.1\n"
     ]
    }
   ],
   "source": [
    "!pip install --upgrade scikit-learn imbalanced-learn\n"
   ]
  },
  {
   "cell_type": "code",
   "execution_count": 9,
   "id": "n4lkMM5EmWj1",
   "metadata": {
    "colab": {
     "base_uri": "https://localhost:8080/",
     "height": 141
    },
    "execution": {
     "iopub.execute_input": "2025-04-15T06:23:10.549375Z",
     "iopub.status.busy": "2025-04-15T06:23:10.548610Z",
     "iopub.status.idle": "2025-04-15T06:23:10.559163Z",
     "shell.execute_reply": "2025-04-15T06:23:10.558492Z",
     "shell.execute_reply.started": "2025-04-15T06:23:10.549346Z"
    },
    "id": "n4lkMM5EmWj1",
    "outputId": "f0a691e2-23cf-4556-9324-e41d0030e60b"
   },
   "outputs": [
    {
     "data": {
      "text/html": [
       "<div>\n",
       "<style scoped>\n",
       "    .dataframe tbody tr th:only-of-type {\n",
       "        vertical-align: middle;\n",
       "    }\n",
       "\n",
       "    .dataframe tbody tr th {\n",
       "        vertical-align: top;\n",
       "    }\n",
       "\n",
       "    .dataframe thead th {\n",
       "        text-align: right;\n",
       "    }\n",
       "</style>\n",
       "<table border=\"1\" class=\"dataframe\">\n",
       "  <thead>\n",
       "    <tr style=\"text-align: right;\">\n",
       "      <th></th>\n",
       "      <th>url</th>\n",
       "      <th>type</th>\n",
       "      <th>type_encoded</th>\n",
       "    </tr>\n",
       "  </thead>\n",
       "  <tbody>\n",
       "    <tr>\n",
       "      <th>0</th>\n",
       "      <td>http://1337x.to/torrent/1048648/American-Snipe...</td>\n",
       "      <td>benign</td>\n",
       "      <td>0</td>\n",
       "    </tr>\n",
       "    <tr>\n",
       "      <th>1</th>\n",
       "      <td>http://1337x.to/torrent/1110018/Blackhat-2015-...</td>\n",
       "      <td>benign</td>\n",
       "      <td>0</td>\n",
       "    </tr>\n",
       "    <tr>\n",
       "      <th>2</th>\n",
       "      <td>http://1337x.to/torrent/1122940/Blackhat-2015-...</td>\n",
       "      <td>benign</td>\n",
       "      <td>0</td>\n",
       "    </tr>\n",
       "    <tr>\n",
       "      <th>3</th>\n",
       "      <td>http://1337x.to/torrent/1124395/Fast-and-Furio...</td>\n",
       "      <td>benign</td>\n",
       "      <td>0</td>\n",
       "    </tr>\n",
       "    <tr>\n",
       "      <th>4</th>\n",
       "      <td>http://1337x.to/torrent/1145504/Avengers-Age-o...</td>\n",
       "      <td>benign</td>\n",
       "      <td>0</td>\n",
       "    </tr>\n",
       "    <tr>\n",
       "      <th>...</th>\n",
       "      <td>...</td>\n",
       "      <td>...</td>\n",
       "      <td>...</td>\n",
       "    </tr>\n",
       "    <tr>\n",
       "      <th>653041</th>\n",
       "      <td>xbox360.ign.com/objects/850/850402.html</td>\n",
       "      <td>phishing</td>\n",
       "      <td>3</td>\n",
       "    </tr>\n",
       "    <tr>\n",
       "      <th>653042</th>\n",
       "      <td>games.teamxbox.com/xbox-360/1860/Dead-Space/</td>\n",
       "      <td>phishing</td>\n",
       "      <td>3</td>\n",
       "    </tr>\n",
       "    <tr>\n",
       "      <th>653043</th>\n",
       "      <td>www.gamespot.com/xbox360/action/deadspace/</td>\n",
       "      <td>phishing</td>\n",
       "      <td>3</td>\n",
       "    </tr>\n",
       "    <tr>\n",
       "      <th>653044</th>\n",
       "      <td>en.wikipedia.org/wiki/Dead_Space_(video_game)</td>\n",
       "      <td>phishing</td>\n",
       "      <td>3</td>\n",
       "    </tr>\n",
       "    <tr>\n",
       "      <th>653045</th>\n",
       "      <td>www.angelfire.com/goth/devilmaycrytonite/</td>\n",
       "      <td>phishing</td>\n",
       "      <td>3</td>\n",
       "    </tr>\n",
       "  </tbody>\n",
       "</table>\n",
       "<p>653046 rows × 3 columns</p>\n",
       "</div>"
      ],
      "text/plain": [
       "                                                      url      type  \\\n",
       "0       http://1337x.to/torrent/1048648/American-Snipe...    benign   \n",
       "1       http://1337x.to/torrent/1110018/Blackhat-2015-...    benign   \n",
       "2       http://1337x.to/torrent/1122940/Blackhat-2015-...    benign   \n",
       "3       http://1337x.to/torrent/1124395/Fast-and-Furio...    benign   \n",
       "4       http://1337x.to/torrent/1145504/Avengers-Age-o...    benign   \n",
       "...                                                   ...       ...   \n",
       "653041            xbox360.ign.com/objects/850/850402.html  phishing   \n",
       "653042       games.teamxbox.com/xbox-360/1860/Dead-Space/  phishing   \n",
       "653043         www.gamespot.com/xbox360/action/deadspace/  phishing   \n",
       "653044      en.wikipedia.org/wiki/Dead_Space_(video_game)  phishing   \n",
       "653045          www.angelfire.com/goth/devilmaycrytonite/  phishing   \n",
       "\n",
       "        type_encoded  \n",
       "0                  0  \n",
       "1                  0  \n",
       "2                  0  \n",
       "3                  0  \n",
       "4                  0  \n",
       "...              ...  \n",
       "653041             3  \n",
       "653042             3  \n",
       "653043             3  \n",
       "653044             3  \n",
       "653045             3  \n",
       "\n",
       "[653046 rows x 3 columns]"
      ]
     },
     "execution_count": 9,
     "metadata": {},
     "output_type": "execute_result"
    }
   ],
   "source": [
    "merged_df"
   ]
  },
  {
   "cell_type": "code",
   "execution_count": 10,
   "id": "d9b1c8bd-8175-48bd-b1d3-08bb614cf9d8",
   "metadata": {
    "execution": {
     "iopub.execute_input": "2025-04-15T06:23:17.059739Z",
     "iopub.status.busy": "2025-04-15T06:23:17.059100Z",
     "iopub.status.idle": "2025-04-15T06:23:23.117524Z",
     "shell.execute_reply": "2025-04-15T06:23:23.116780Z",
     "shell.execute_reply.started": "2025-04-15T06:23:17.059711Z"
    }
   },
   "outputs": [
    {
     "name": "stdout",
     "output_type": "stream",
     "text": [
      "Collecting scikit-learn==1.3.2\n",
      "  Downloading scikit_learn-1.3.2-cp311-cp311-manylinux_2_17_x86_64.manylinux2014_x86_64.whl.metadata (11 kB)\n",
      "Collecting imbalanced-learn==0.11.0\n",
      "  Downloading imbalanced_learn-0.11.0-py3-none-any.whl.metadata (8.3 kB)\n",
      "Requirement already satisfied: numpy<2.0,>=1.17.3 in /usr/local/lib/python3.11/dist-packages (from scikit-learn==1.3.2) (1.26.4)\n",
      "Requirement already satisfied: scipy>=1.5.0 in /usr/local/lib/python3.11/dist-packages (from scikit-learn==1.3.2) (1.15.2)\n",
      "Requirement already satisfied: joblib>=1.1.1 in /usr/local/lib/python3.11/dist-packages (from scikit-learn==1.3.2) (1.4.2)\n",
      "Requirement already satisfied: threadpoolctl>=2.0.0 in /usr/local/lib/python3.11/dist-packages (from scikit-learn==1.3.2) (3.6.0)\n",
      "Requirement already satisfied: mkl_fft in /usr/local/lib/python3.11/dist-packages (from numpy<2.0,>=1.17.3->scikit-learn==1.3.2) (1.3.8)\n",
      "Requirement already satisfied: mkl_random in /usr/local/lib/python3.11/dist-packages (from numpy<2.0,>=1.17.3->scikit-learn==1.3.2) (1.2.4)\n",
      "Requirement already satisfied: mkl_umath in /usr/local/lib/python3.11/dist-packages (from numpy<2.0,>=1.17.3->scikit-learn==1.3.2) (0.1.1)\n",
      "Requirement already satisfied: mkl in /usr/local/lib/python3.11/dist-packages (from numpy<2.0,>=1.17.3->scikit-learn==1.3.2) (2025.1.0)\n",
      "Requirement already satisfied: tbb4py in /usr/local/lib/python3.11/dist-packages (from numpy<2.0,>=1.17.3->scikit-learn==1.3.2) (2022.1.0)\n",
      "Requirement already satisfied: mkl-service in /usr/local/lib/python3.11/dist-packages (from numpy<2.0,>=1.17.3->scikit-learn==1.3.2) (2.4.1)\n",
      "Requirement already satisfied: intel-openmp<2026,>=2024 in /usr/local/lib/python3.11/dist-packages (from mkl->numpy<2.0,>=1.17.3->scikit-learn==1.3.2) (2024.2.0)\n",
      "Requirement already satisfied: tbb==2022.* in /usr/local/lib/python3.11/dist-packages (from mkl->numpy<2.0,>=1.17.3->scikit-learn==1.3.2) (2022.1.0)\n",
      "Requirement already satisfied: tcmlib==1.* in /usr/local/lib/python3.11/dist-packages (from tbb==2022.*->mkl->numpy<2.0,>=1.17.3->scikit-learn==1.3.2) (1.2.0)\n",
      "Requirement already satisfied: intel-cmplr-lib-rt in /usr/local/lib/python3.11/dist-packages (from mkl_umath->numpy<2.0,>=1.17.3->scikit-learn==1.3.2) (2024.2.0)\n",
      "Requirement already satisfied: intel-cmplr-lib-ur==2024.2.0 in /usr/local/lib/python3.11/dist-packages (from intel-openmp<2026,>=2024->mkl->numpy<2.0,>=1.17.3->scikit-learn==1.3.2) (2024.2.0)\n",
      "Downloading scikit_learn-1.3.2-cp311-cp311-manylinux_2_17_x86_64.manylinux2014_x86_64.whl (10.9 MB)\n",
      "\u001b[2K   \u001b[90m━━━━━━━━━━━━━━━━━━━━━━━━━━━━━━━━━━━━━━━━\u001b[0m \u001b[32m10.9/10.9 MB\u001b[0m \u001b[31m90.5 MB/s\u001b[0m eta \u001b[36m0:00:00\u001b[0m:00:01\u001b[0m:01\u001b[0m\n",
      "\u001b[?25hDownloading imbalanced_learn-0.11.0-py3-none-any.whl (235 kB)\n",
      "\u001b[2K   \u001b[90m━━━━━━━━━━━━━━━━━━━━━━━━━━━━━━━━━━━━━━━━\u001b[0m \u001b[32m235.6/235.6 kB\u001b[0m \u001b[31m5.5 MB/s\u001b[0m eta \u001b[36m0:00:00\u001b[0m00:01\u001b[0m\n",
      "\u001b[?25hInstalling collected packages: scikit-learn, imbalanced-learn\n",
      "  Attempting uninstall: scikit-learn\n",
      "    Found existing installation: scikit-learn 1.6.1\n",
      "    Uninstalling scikit-learn-1.6.1:\n",
      "      Successfully uninstalled scikit-learn-1.6.1\n",
      "  Attempting uninstall: imbalanced-learn\n",
      "    Found existing installation: imbalanced-learn 0.13.0\n",
      "    Uninstalling imbalanced-learn-0.13.0:\n",
      "      Successfully uninstalled imbalanced-learn-0.13.0\n",
      "\u001b[31mERROR: pip's dependency resolver does not currently take into account all the packages that are installed. This behaviour is the source of the following dependency conflicts.\n",
      "nilearn 0.11.1 requires scikit-learn>=1.4.0, but you have scikit-learn 1.3.2 which is incompatible.\n",
      "bigframes 1.36.0 requires rich<14,>=12.4.4, but you have rich 14.0.0 which is incompatible.\u001b[0m\u001b[31m\n",
      "\u001b[0mSuccessfully installed imbalanced-learn-0.11.0 scikit-learn-1.3.2\n"
     ]
    }
   ],
   "source": [
    "!pip install scikit-learn==1.3.2 imbalanced-learn==0.11.0\n"
   ]
  },
  {
   "cell_type": "code",
   "execution_count": 11,
   "id": "92eb612c-fd4b-4167-8a60-9ff67552175e",
   "metadata": {
    "execution": {
     "iopub.execute_input": "2025-04-15T06:23:23.119198Z",
     "iopub.status.busy": "2025-04-15T06:23:23.118963Z",
     "iopub.status.idle": "2025-04-15T06:23:28.981670Z",
     "shell.execute_reply": "2025-04-15T06:23:28.980964Z",
     "shell.execute_reply.started": "2025-04-15T06:23:23.119177Z"
    }
   },
   "outputs": [
    {
     "name": "stdout",
     "output_type": "stream",
     "text": [
      "Collecting scikit-learn==1.2.1\n",
      "  Downloading scikit_learn-1.2.1-cp311-cp311-manylinux_2_17_x86_64.manylinux2014_x86_64.whl.metadata (11 kB)\n",
      "Requirement already satisfied: numpy>=1.17.3 in /usr/local/lib/python3.11/dist-packages (from scikit-learn==1.2.1) (1.26.4)\n",
      "Requirement already satisfied: scipy>=1.3.2 in /usr/local/lib/python3.11/dist-packages (from scikit-learn==1.2.1) (1.15.2)\n",
      "Requirement already satisfied: joblib>=1.1.1 in /usr/local/lib/python3.11/dist-packages (from scikit-learn==1.2.1) (1.4.2)\n",
      "Requirement already satisfied: threadpoolctl>=2.0.0 in /usr/local/lib/python3.11/dist-packages (from scikit-learn==1.2.1) (3.6.0)\n",
      "Requirement already satisfied: mkl_fft in /usr/local/lib/python3.11/dist-packages (from numpy>=1.17.3->scikit-learn==1.2.1) (1.3.8)\n",
      "Requirement already satisfied: mkl_random in /usr/local/lib/python3.11/dist-packages (from numpy>=1.17.3->scikit-learn==1.2.1) (1.2.4)\n",
      "Requirement already satisfied: mkl_umath in /usr/local/lib/python3.11/dist-packages (from numpy>=1.17.3->scikit-learn==1.2.1) (0.1.1)\n",
      "Requirement already satisfied: mkl in /usr/local/lib/python3.11/dist-packages (from numpy>=1.17.3->scikit-learn==1.2.1) (2025.1.0)\n",
      "Requirement already satisfied: tbb4py in /usr/local/lib/python3.11/dist-packages (from numpy>=1.17.3->scikit-learn==1.2.1) (2022.1.0)\n",
      "Requirement already satisfied: mkl-service in /usr/local/lib/python3.11/dist-packages (from numpy>=1.17.3->scikit-learn==1.2.1) (2.4.1)\n",
      "Requirement already satisfied: intel-openmp<2026,>=2024 in /usr/local/lib/python3.11/dist-packages (from mkl->numpy>=1.17.3->scikit-learn==1.2.1) (2024.2.0)\n",
      "Requirement already satisfied: tbb==2022.* in /usr/local/lib/python3.11/dist-packages (from mkl->numpy>=1.17.3->scikit-learn==1.2.1) (2022.1.0)\n",
      "Requirement already satisfied: tcmlib==1.* in /usr/local/lib/python3.11/dist-packages (from tbb==2022.*->mkl->numpy>=1.17.3->scikit-learn==1.2.1) (1.2.0)\n",
      "Requirement already satisfied: intel-cmplr-lib-rt in /usr/local/lib/python3.11/dist-packages (from mkl_umath->numpy>=1.17.3->scikit-learn==1.2.1) (2024.2.0)\n",
      "Requirement already satisfied: intel-cmplr-lib-ur==2024.2.0 in /usr/local/lib/python3.11/dist-packages (from intel-openmp<2026,>=2024->mkl->numpy>=1.17.3->scikit-learn==1.2.1) (2024.2.0)\n",
      "Downloading scikit_learn-1.2.1-cp311-cp311-manylinux_2_17_x86_64.manylinux2014_x86_64.whl (9.6 MB)\n",
      "\u001b[2K   \u001b[90m━━━━━━━━━━━━━━━━━━━━━━━━━━━━━━━━━━━━━━━━\u001b[0m \u001b[32m9.6/9.6 MB\u001b[0m \u001b[31m12.1 MB/s\u001b[0m eta \u001b[36m0:00:00\u001b[0m00:01\u001b[0m00:01\u001b[0m\n",
      "\u001b[?25hInstalling collected packages: scikit-learn\n",
      "  Attempting uninstall: scikit-learn\n",
      "    Found existing installation: scikit-learn 1.3.2\n",
      "    Uninstalling scikit-learn-1.3.2:\n",
      "      Successfully uninstalled scikit-learn-1.3.2\n",
      "\u001b[31mERROR: pip's dependency resolver does not currently take into account all the packages that are installed. This behaviour is the source of the following dependency conflicts.\n",
      "nilearn 0.11.1 requires scikit-learn>=1.4.0, but you have scikit-learn 1.2.1 which is incompatible.\n",
      "bigframes 1.36.0 requires rich<14,>=12.4.4, but you have rich 14.0.0 which is incompatible.\n",
      "bigframes 1.36.0 requires scikit-learn>=1.2.2, but you have scikit-learn 1.2.1 which is incompatible.\n",
      "mlxtend 0.23.4 requires scikit-learn>=1.3.1, but you have scikit-learn 1.2.1 which is incompatible.\u001b[0m\u001b[31m\n",
      "\u001b[0mSuccessfully installed scikit-learn-1.2.1\n"
     ]
    }
   ],
   "source": [
    "\n",
    "!pip install -U scikit-learn==1.2.1 "
   ]
  },
  {
   "cell_type": "code",
   "execution_count": 14,
   "id": "d834019b-a736-47da-ba74-370432714438",
   "metadata": {
    "execution": {
     "iopub.execute_input": "2025-04-15T06:28:22.465475Z",
     "iopub.status.busy": "2025-04-15T06:28:22.464792Z",
     "iopub.status.idle": "2025-04-15T06:30:35.270184Z",
     "shell.execute_reply": "2025-04-15T06:30:35.269550Z",
     "shell.execute_reply.started": "2025-04-15T06:28:22.465452Z"
    }
   },
   "outputs": [
    {
     "name": "stdout",
     "output_type": "stream",
     "text": [
      "Balanced dataset saved as 'balanced_df.csv'\n",
      "\n",
      "Balanced class distribution:\n",
      " type\n",
      "malware       11921\n",
      "phishing      11921\n",
      "benign        11921\n",
      "defacement    11921\n",
      "spams         11921\n",
      "Name: count, dtype: int64\n",
      "\n",
      "Sample of balanced data:\n",
      "\n",
      "   000webhostapp  01  02  03  04  05  06  07  08  09  ...  yellowpages  yelp  \\\n",
      "0              0   0   0   0   0   0   0   0   0   0  ...            0     0   \n",
      "1              0   0   0   0   0   0   0   0   0   0  ...            0     0   \n",
      "2              0   0   0   0   0   0   0   0   0   0  ...            0     0   \n",
      "3              0   0   0   0   0   0   0   0   0   0  ...            0     0   \n",
      "4              0   0   0   0   0   0   0   0   0   0  ...            0     0   \n",
      "\n",
      "   york  yorkpress  you  your  youtube  za  zip  zoominfo  \n",
      "0     0          0    0     0        0   0    0         0  \n",
      "1     0          0    0     0        0   0    0         0  \n",
      "2     0          0    0     0        0   0    0         0  \n",
      "3     0          0    0     0        0   0    0         0  \n",
      "4     0          0    0     0        0   0    0         0  \n",
      "\n",
      "[5 rows x 1000 columns]\n"
     ]
    }
   ],
   "source": [
    "import pandas as pd\n",
    "import numpy as np\n",
    "from sklearn.preprocessing import LabelEncoder\n",
    "from sklearn.feature_extraction.text import TfidfVectorizer\n",
    "from sklearn.utils import resample\n",
    "\n",
    "\n",
    "main_file = pd.read_csv(\"/kaggle/input/dataset/malicious_phish.csv\")\n",
    "file_paths = [\n",
    "    (\"/kaggle/input/assignment02/Benign_list_big_final.csv\", \"benign\"),\n",
    "    (\"/kaggle/input/assignment02/DefacementSitesURLFiltered.csv\", \"defacement\"),\n",
    "    (\"/kaggle/input/assignment02/Malware_dataset.csv\", \"malware\"),\n",
    "    (\"/kaggle/input/assignment02/phishing_dataset.csv\", \"phishing\"),\n",
    "    (\"/kaggle/input/assignment02/spam_dataset.csv\", \"spams\")\n",
    "]\n",
    "\n",
    "dfs = []\n",
    "\n",
    "for file_path, label in file_paths:\n",
    "    df = pd.read_csv(file_path, header=None)\n",
    "    df.columns = ['url']\n",
    "    df['type'] = label\n",
    "    dfs.append(df)\n",
    "\n",
    "\n",
    "dfs.append(main_file)\n",
    "merged_df = pd.concat(dfs, ignore_index=True)\n",
    "merged_df.drop_duplicates(inplace=True)\n",
    "merged_df.dropna(inplace=True)\n",
    "merged_df.reset_index(drop=True, inplace=True)\n",
    "\n",
    "\n",
    "le = LabelEncoder()\n",
    "merged_df['type_encoded'] = le.fit_transform(merged_df['type'])\n",
    "\n",
    "\n",
    "vectorizer = TfidfVectorizer(max_features=1000)\n",
    "X = vectorizer.fit_transform(merged_df['url'])\n",
    "y = merged_df['type']\n",
    "\n",
    "# Convert sparse matrix to DataFrame \n",
    "df_X = pd.DataFrame.sparse.from_spmatrix(X, columns=vectorizer.get_feature_names_out())\n",
    "df_X['type'] = y.values\n",
    "\n",
    "# Balance all classes to have same number of samples\n",
    "min_samples = df_X['type'].value_counts().min()\n",
    "\n",
    "balanced_dfs = []\n",
    "for label in df_X['type'].unique():\n",
    "    df_label = df_X[df_X['type'] == label]\n",
    "    df_resampled = resample(\n",
    "        df_label,\n",
    "        replace=True,\n",
    "        n_samples=min_samples,\n",
    "        random_state=42\n",
    "    )\n",
    "    balanced_dfs.append(df_resampled)\n",
    "\n",
    "\n",
    "balanced_df = pd.concat(balanced_dfs).sample(frac=1, random_state=42).reset_index(drop=True)\n",
    "balanced_df.to_csv('/kaggle/working/balanced_df.csv', index=False)\n",
    "\n",
    "print(\"Balanced dataset saved as 'balanced_df.csv'\")\n",
    "print(\"\\nBalanced class distribution:\\n\", balanced_df['type'].value_counts())\n",
    "print(\"\\nSample of balanced data:\\n\")\n",
    "print(balanced_df.head())\n"
   ]
  },
  {
   "cell_type": "code",
   "execution_count": 13,
   "id": "44c59f67",
   "metadata": {
    "colab": {
     "base_uri": "https://localhost:8080/",
     "height": 211
    },
    "execution": {
     "iopub.execute_input": "2025-04-15T06:25:53.910472Z",
     "iopub.status.busy": "2025-04-15T06:25:53.910147Z",
     "iopub.status.idle": "2025-04-15T06:26:05.893850Z",
     "shell.execute_reply": "2025-04-15T06:26:05.893067Z",
     "shell.execute_reply.started": "2025-04-15T06:25:53.910451Z"
    },
    "id": "44c59f67",
    "outputId": "1e700e47-79d6-4d53-a55c-79f0bf0bced5"
   },
   "outputs": [
    {
     "name": "stdout",
     "output_type": "stream",
     "text": [
      "TF-IDF matrix shape: (653046, 1000)\n",
      "Final combined feature matrix shape: (653046, 1002)\n"
     ]
    }
   ],
   "source": [
    "from sklearn.preprocessing import OrdinalEncoder\n",
    "from sklearn.feature_extraction.text import TfidfVectorizer\n",
    "\n",
    "# Ordinal Encoding \n",
    "encoder = OrdinalEncoder()\n",
    "X_ord = encoder.fit_transform(merged_df[['url']])  \n",
    "\n",
    "# Feature Engineering\n",
    "merged_df['url_length'] = merged_df['url'].str.len()\n",
    "merged_df['num_special_chars'] = merged_df['url'].str.count(r'[^\\w\\s]')\n",
    "\n",
    "X_features = merged_df[['url_length', 'num_special_chars']]\n",
    "\n",
    "# TF-IDF Vectorization\n",
    "tfidf = TfidfVectorizer(max_features=1000)\n",
    "X_tfidf = tfidf.fit_transform(merged_df['url']).tocsr()\n",
    "\n",
    "print(\"TF-IDF matrix shape:\", X_tfidf.shape)\n",
    "\n",
    "# Combine TF-IDF with engineered features\n",
    "from scipy.sparse import hstack\n",
    "from sklearn.preprocessing import StandardScaler\n",
    "\n",
    "# Scale the additional features\n",
    "scaler = StandardScaler()\n",
    "X_scaled = scaler.fit_transform(X_features)\n",
    "\n",
    "# Combine TF-IDF (sparse) and scaled features (dense converted to sparse)\n",
    "X_final = hstack([X_tfidf, X_scaled], format='csr')\n",
    "\n",
    "print(\"Final combined feature matrix shape:\", X_final.shape)\n"
   ]
  },
  {
   "cell_type": "markdown",
   "id": "a5f0de82",
   "metadata": {
    "id": "a5f0de82"
   },
   "source": [
    "# EDA"
   ]
  },
  {
   "cell_type": "code",
   "execution_count": 15,
   "id": "156ac4f4",
   "metadata": {
    "execution": {
     "iopub.execute_input": "2025-04-15T06:30:45.362932Z",
     "iopub.status.busy": "2025-04-15T06:30:45.362636Z",
     "iopub.status.idle": "2025-04-15T06:30:45.899796Z",
     "shell.execute_reply": "2025-04-15T06:30:45.899055Z",
     "shell.execute_reply.started": "2025-04-15T06:30:45.362912Z"
    },
    "id": "156ac4f4"
   },
   "outputs": [
    {
     "data": {
      "image/png": "[encoded data removed]",
      "text/plain": [
       "<Figure size 800x600 with 1 Axes>"
      ]
     },
     "metadata": {},
     "output_type": "display_data"
    }
   ],
   "source": [
    "import matplotlib.pyplot as plt\n",
    "import seaborn as sns\n",
    "\n",
    "# Plot distribution of types\n",
    "plt.figure(figsize=(8,6))\n",
    "sns.countplot(x='type', data=balanced_df)\n",
    "plt.title('Distribution of URL Types')\n",
    "plt.show()\n"
   ]
  },
  {
   "cell_type": "code",
   "execution_count": 17,
   "id": "798bc421",
   "metadata": {
    "execution": {
     "iopub.execute_input": "2025-04-15T06:33:15.861240Z",
     "iopub.status.busy": "2025-04-15T06:33:15.860863Z",
     "iopub.status.idle": "2025-04-15T06:33:16.349785Z",
     "shell.execute_reply": "2025-04-15T06:33:16.349104Z",
     "shell.execute_reply.started": "2025-04-15T06:33:15.861215Z"
    },
    "id": "798bc421"
   },
   "outputs": [
    {
     "data": {
      "image/png": "[encoded data removed]",
      "text/plain": [
       "<Figure size 1000x800 with 1 Axes>"
      ]
     },
     "metadata": {},
     "output_type": "display_data"
    }
   ],
   "source": [
    "import pandas as pd\n",
    "import matplotlib.pyplot as plt\n",
    "import seaborn as sns\n",
    "import re\n",
    "\n",
    "\n",
    "\n",
    "# Tokenize URLs and explore patterns\n",
    "def tokenize_url(url):\n",
    "    # Ensure url is a string\n",
    "    url = str(url)\n",
    "    # Simple tokenization using regex to split based on '/', '.', and '-'\n",
    "    tokens = re.split(r'[/.-]', url)\n",
    "    return tokens\n",
    "\n",
    "# Apply tokenization to the 'url' column\n",
    "balanced_df['tokens'] = balanced_df['url'].apply(tokenize_url)\n",
    "token_counts = balanced_df['tokens'].explode().value_counts()\n",
    "\n",
    "# there might be no tokens to plot\n",
    "top_tokens = token_counts.head(10) if len(token_counts) > 0 else pd.Series()\n",
    "\n",
    "# Check if there are tokens to display\n",
    "if not top_tokens.empty:\n",
    "    plt.figure(figsize=(10,8))\n",
    "    sns.barplot(x=top_tokens.index, y=top_tokens.values)\n",
    "    plt.title('Top 10 Tokens in URLs')\n",
    "    plt.xticks(rotation=45)\n",
    "    plt.xlabel('Token')\n",
    "    plt.ylabel('Frequency')\n",
    "    plt.tight_layout()\n",
    "    plt.show()\n",
    "else:\n",
    "    print(\"No tokens to display.\")\n"
   ]
  },
  {
   "cell_type": "code",
   "execution_count": 18,
   "id": "7ea63c62",
   "metadata": {
    "execution": {
     "iopub.execute_input": "2025-04-15T06:33:55.880937Z",
     "iopub.status.busy": "2025-04-15T06:33:55.880216Z",
     "iopub.status.idle": "2025-04-15T06:33:56.124042Z",
     "shell.execute_reply": "2025-04-15T06:33:56.123312Z",
     "shell.execute_reply.started": "2025-04-15T06:33:55.880914Z"
    },
    "id": "7ea63c62"
   },
   "outputs": [
    {
     "name": "stderr",
     "output_type": "stream",
     "text": [
      "/usr/local/lib/python3.11/dist-packages/seaborn/_oldcore.py:1119: FutureWarning: use_inf_as_na option is deprecated and will be removed in a future version. Convert inf values to NaN before operating instead.\n",
      "  with pd.option_context('mode.use_inf_as_na', True):\n"
     ]
    },
    {
     "data": {
      "image/png": "[encoded data removed]",
      "text/plain": [
       "<Figure size 800x600 with 1 Axes>"
      ]
     },
     "metadata": {},
     "output_type": "display_data"
    }
   ],
   "source": [
    "# url length distribution\n",
    "balanced_df['url_length'] = balanced_df['url'].apply(len)\n",
    "plt.figure(figsize=(8,6))\n",
    "sns.histplot(balanced_df['url_length'], bins=50)\n",
    "plt.title('Distribution of URL Lengths')\n",
    "plt.show()\n"
   ]
  },
  {
   "cell_type": "code",
   "execution_count": 19,
   "id": "161c0abd",
   "metadata": {
    "execution": {
     "iopub.execute_input": "2025-04-15T06:34:02.820741Z",
     "iopub.status.busy": "2025-04-15T06:34:02.820448Z",
     "iopub.status.idle": "2025-04-15T06:34:03.060213Z",
     "shell.execute_reply": "2025-04-15T06:34:03.059495Z",
     "shell.execute_reply.started": "2025-04-15T06:34:02.820719Z"
    },
    "id": "161c0abd"
   },
   "outputs": [
    {
     "name": "stderr",
     "output_type": "stream",
     "text": [
      "/usr/local/lib/python3.11/dist-packages/seaborn/_oldcore.py:1119: FutureWarning: use_inf_as_na option is deprecated and will be removed in a future version. Convert inf values to NaN before operating instead.\n",
      "  with pd.option_context('mode.use_inf_as_na', True):\n"
     ]
    },
    {
     "data": {
      "image/png": "[encoded data removed]",
      "text/plain": [
       "<Figure size 800x600 with 1 Axes>"
      ]
     },
     "metadata": {},
     "output_type": "display_data"
    }
   ],
   "source": [
    "# special characters in url\n",
    "def count_special_chars(url):\n",
    "    return sum(not c.isalnum() for c in url)\n",
    "\n",
    "balanced_df['special_chars'] = balanced_df['url'].apply(count_special_chars)\n",
    "plt.figure(figsize=(8,6))\n",
    "sns.histplot(balanced_df['special_chars'], bins=20)\n",
    "plt.title('Distribution of Special Characters in URLs')\n",
    "plt.show()\n"
   ]
  },
  {
   "cell_type": "code",
   "execution_count": 20,
   "id": "a54d974a",
   "metadata": {
    "execution": {
     "iopub.execute_input": "2025-04-15T06:34:07.819868Z",
     "iopub.status.busy": "2025-04-15T06:34:07.819603Z",
     "iopub.status.idle": "2025-04-15T06:34:07.955625Z",
     "shell.execute_reply": "2025-04-15T06:34:07.955019Z",
     "shell.execute_reply.started": "2025-04-15T06:34:07.819850Z"
    },
    "id": "a54d974a"
   },
   "outputs": [
    {
     "data": {
      "image/png": "[encoded data removed]",
      "text/plain": [
       "<Figure size 800x600 with 1 Axes>"
      ]
     },
     "metadata": {},
     "output_type": "display_data"
    }
   ],
   "source": [
    "# subdomain count\n",
    "def count_subdomains(url):\n",
    "    return len(url.split('.')) - 2\n",
    "\n",
    "balanced_df['subdomains'] = balanced_df['url'].apply(count_subdomains)\n",
    "plt.figure(figsize=(8,6))\n",
    "sns.countplot(x='subdomains', data=balanced_df)\n",
    "plt.title('Distribution of Subdomains')\n",
    "plt.show()\n"
   ]
  },
  {
   "cell_type": "code",
   "execution_count": 21,
   "id": "b3134609",
   "metadata": {
    "execution": {
     "iopub.execute_input": "2025-04-15T06:34:11.975192Z",
     "iopub.status.busy": "2025-04-15T06:34:11.974928Z",
     "iopub.status.idle": "2025-04-15T06:34:12.007460Z",
     "shell.execute_reply": "2025-04-15T06:34:12.006734Z",
     "shell.execute_reply.started": "2025-04-15T06:34:11.975174Z"
    },
    "id": "b3134609"
   },
   "outputs": [
    {
     "name": "stdout",
     "output_type": "stream",
     "text": [
      "type_encoded                   \n",
      "0             0                    23808\n",
      "              6906368312727899         3\n",
      "              44734800099780586        2\n",
      "              697386185720526          1\n",
      "              4932034049176137         1\n",
      "1             0                    23840\n",
      "              5558369367286934         1\n",
      "              39731363304116546        1\n",
      "2             0                    23824\n",
      "              6111229358862311         2\n",
      "              5152815128014968         2\n",
      "              6139321490293688         2\n",
      "              6271427598614578         1\n",
      "3             0                    23828\n",
      "              66758731736322           2\n",
      "              4044955372632106         1\n",
      "              6493176470315929         1\n",
      "              7553396489704588         1\n",
      "4             0                    23818\n",
      "              5546242754196726         4\n",
      "              2834173495778792         4\n",
      "              2800956811007851         3\n",
      "              30333435812522375        3\n",
      "Name: tokens, dtype: int64\n"
     ]
    }
   ],
   "source": [
    "#token frequency by type\n",
    "token_freq_by_type = balanced_df.groupby('type_encoded')['tokens'].apply(lambda x: pd.Series([item for sublist in x for item in sublist]).value_counts().head(5))\n",
    "print(token_freq_by_type)\n"
   ]
  },
  {
   "cell_type": "code",
   "execution_count": 22,
   "id": "2eaae5ba",
   "metadata": {
    "execution": {
     "iopub.execute_input": "2025-04-15T06:34:16.361213Z",
     "iopub.status.busy": "2025-04-15T06:34:16.360713Z",
     "iopub.status.idle": "2025-04-15T06:34:16.538225Z",
     "shell.execute_reply": "2025-04-15T06:34:16.537383Z",
     "shell.execute_reply.started": "2025-04-15T06:34:16.361193Z"
    },
    "id": "2eaae5ba"
   },
   "outputs": [
    {
     "name": "stderr",
     "output_type": "stream",
     "text": [
      "/usr/local/lib/python3.11/dist-packages/matplotlib/colors.py:721: RuntimeWarning: invalid value encountered in less\n",
      "  xa[xa < 0] = -1\n"
     ]
    },
    {
     "data": {
      "image/png": "[encoded data removed]",
      "text/plain": [
       "<Figure size 800x600 with 2 Axes>"
      ]
     },
     "metadata": {},
     "output_type": "display_data"
    }
   ],
   "source": [
    "# heatmap of correlation between features\n",
    "numerical_features = balanced_df[['url_length', 'special_chars', 'subdomains']]\n",
    "corr_matrix = numerical_features.corr()\n",
    "plt.figure(figsize=(8,6))\n",
    "sns.heatmap(corr_matrix, annot=True, cmap='coolwarm', square=True)\n",
    "plt.title('Correlation Between Numerical Features')\n",
    "plt.show()\n"
   ]
  },
  {
   "cell_type": "markdown",
   "id": "07729609",
   "metadata": {
    "id": "07729609"
   },
   "source": [
    "# Feature Extraction"
   ]
  },
  {
   "cell_type": "code",
   "execution_count": 23,
   "id": "e1d6fe7b",
   "metadata": {
    "execution": {
     "iopub.execute_input": "2025-04-15T06:34:24.759577Z",
     "iopub.status.busy": "2025-04-15T06:34:24.759240Z",
     "iopub.status.idle": "2025-04-15T06:34:24.894958Z",
     "shell.execute_reply": "2025-04-15T06:34:24.894120Z",
     "shell.execute_reply.started": "2025-04-15T06:34:24.759559Z"
    },
    "id": "e1d6fe7b"
   },
   "outputs": [],
   "source": [
    "#NLP based embeddings\n",
    "from sklearn.feature_extraction.text import TfidfVectorizer\n",
    "\n",
    "# Apply TF-IDF to URLs\n",
    "vectorizer = TfidfVectorizer()\n",
    "X_tfidf = vectorizer.fit_transform(balanced_df['url'])\n"
   ]
  },
  {
   "cell_type": "code",
   "execution_count": 24,
   "id": "5257215a",
   "metadata": {
    "execution": {
     "iopub.execute_input": "2025-04-15T06:34:28.816406Z",
     "iopub.status.busy": "2025-04-15T06:34:28.815609Z",
     "iopub.status.idle": "2025-04-15T06:34:41.683313Z",
     "shell.execute_reply": "2025-04-15T06:34:41.682580Z",
     "shell.execute_reply.started": "2025-04-15T06:34:28.816379Z"
    },
    "id": "5257215a"
   },
   "outputs": [
    {
     "name": "stderr",
     "output_type": "stream",
     "text": [
      "2025-04-15 06:34:30.269285: E external/local_xla/xla/stream_executor/cuda/cuda_fft.cc:477] Unable to register cuFFT factory: Attempting to register factory for plugin cuFFT when one has already been registered\n",
      "WARNING: All log messages before absl::InitializeLog() is called are written to STDERR\n",
      "E0000 00:00:1744698870.466848      31 cuda_dnn.cc:8310] Unable to register cuDNN factory: Attempting to register factory for plugin cuDNN when one has already been registered\n",
      "E0000 00:00:1744698870.522816      31 cuda_blas.cc:1418] Unable to register cuBLAS factory: Attempting to register factory for plugin cuBLAS when one has already been registered\n"
     ]
    },
    {
     "name": "stdout",
     "output_type": "stream",
     "text": [
      "(59605, 200)\n"
     ]
    }
   ],
   "source": [
    "import numpy as np\n",
    "from tensorflow.keras.preprocessing.sequence import pad_sequences\n",
    "\n",
    "# Create a mapping of characters to integer indices\n",
    "def create_char_index(urls):\n",
    "    chars = set(''.join(urls))  # Extract unique characters from all URLs\n",
    "    char_to_index = {char: idx+1 for idx, char in enumerate(chars)}  # Map characters to indices (1-based)\n",
    "    return char_to_index\n",
    "\n",
    "# Tokenize URLs into sequences of integers (using the char-to-index mapping)\n",
    "def tokenize_url_chars_to_int(url, char_to_index):\n",
    "    return [char_to_index.get(char, 0) for char in url]  # Default to 0 for unknown chars\n",
    "\n",
    "# Create the character index mapping\n",
    "char_to_index = create_char_index(balanced_df['url'])\n",
    "\n",
    "# Convert URLs to integer sequences\n",
    "tokenized_urls_int = balanced_df['url'].apply(lambda url: tokenize_url_chars_to_int(url, char_to_index))\n",
    "\n",
    "# Pad the sequences to the same length\n",
    "max_length = 200  # You can adjust this based on your dataset\n",
    "padded_urls = pad_sequences(tokenized_urls_int, maxlen=max_length, padding='post')\n",
    "\n",
    "print(padded_urls.shape)\n"
   ]
  },
  {
   "cell_type": "markdown",
   "id": "ff0c3740",
   "metadata": {
    "id": "ff0c3740"
   },
   "source": [
    "# ML Models"
   ]
  },
  {
   "cell_type": "code",
   "execution_count": 25,
   "id": "3cefd6d6-472c-4d41-aa82-8662c77060e2",
   "metadata": {
    "execution": {
     "iopub.execute_input": "2025-04-15T06:34:49.271947Z",
     "iopub.status.busy": "2025-04-15T06:34:49.270983Z",
     "iopub.status.idle": "2025-04-15T06:38:52.473800Z",
     "shell.execute_reply": "2025-04-15T06:38:52.473319Z",
     "shell.execute_reply.started": "2025-04-15T06:34:49.271923Z"
    }
   },
   "outputs": [
    {
     "name": "stdout",
     "output_type": "stream",
     "text": [
      "Random Forest: Accuracy = 0.197\n",
      "SVM: Accuracy = 0.197\n",
      "XGBoost: Accuracy = 0.197\n"
     ]
    }
   ],
   "source": [
    "from sklearn.model_selection import train_test_split\n",
    "from sklearn.ensemble import RandomForestClassifier\n",
    "from sklearn.svm import SVC\n",
    "from xgboost import XGBClassifier\n",
    "from sklearn.metrics import accuracy_score, confusion_matrix, roc_auc_score\n",
    "from sklearn.preprocessing import LabelEncoder\n",
    "\n",
    "# Encode string labels into numbers\n",
    "le = LabelEncoder()\n",
    "y_encoded = le.fit_transform(balanced_df['type'])\n",
    "\n",
    "# Split data into training and testing sets\n",
    "X_train, X_test, y_train, y_test = train_test_split(X_tfidf, y_encoded, test_size=0.2, random_state=42)\n",
    "\n",
    "# Train models\n",
    "models = {\n",
    "    'Random Forest': RandomForestClassifier(random_state=42),\n",
    "    'SVM': SVC(probability=True, random_state=42),\n",
    "    'XGBoost': XGBClassifier(use_label_encoder=False, eval_metric='mlogloss', random_state=42)\n",
    "}\n",
    "\n",
    "for name, model in models.items():\n",
    "    model.fit(X_train, y_train)\n",
    "    y_pred = model.predict(X_test)\n",
    "    print(f\"{name}: Accuracy = {accuracy_score(y_test, y_pred):.3f}\")\n"
   ]
  },
  {
   "cell_type": "markdown",
   "id": "3fe2dc97",
   "metadata": {
    "id": "3fe2dc97"
   },
   "source": [
    "# DeepLearning Models"
   ]
  },
  {
   "cell_type": "code",
   "execution_count": 26,
   "id": "1374971c",
   "metadata": {
    "execution": {
     "iopub.execute_input": "2025-04-14T22:13:15.665430Z",
     "iopub.status.busy": "2025-04-14T22:13:15.664610Z",
     "iopub.status.idle": "2025-04-14T22:14:14.677983Z",
     "shell.execute_reply": "2025-04-14T22:14:14.677415Z",
     "shell.execute_reply.started": "2025-04-14T22:13:15.665405Z"
    },
    "id": "1374971c"
   },
   "outputs": [
    {
     "name": "stdout",
     "output_type": "stream",
     "text": [
      "Epoch 1/10\n"
     ]
    },
    {
     "name": "stderr",
     "output_type": "stream",
     "text": [
      "/usr/local/lib/python3.11/dist-packages/keras/src/layers/core/embedding.py:90: UserWarning: Argument `input_length` is deprecated. Just remove it.\n",
      "  warnings.warn(\n",
      "I0000 00:00:1744668799.647085     157 cuda_dnn.cc:529] Loaded cuDNN version 90300\n"
     ]
    },
    {
     "name": "stdout",
     "output_type": "stream",
     "text": [
      "\u001b[1m1491/1491\u001b[0m \u001b[32m━━━━━━━━━━━━━━━━━━━━\u001b[0m\u001b[37m\u001b[0m \u001b[1m9s\u001b[0m 4ms/step - accuracy: 0.2026 - loss: 1.6102 - val_accuracy: 0.1968 - val_loss: 1.6097\n",
      "Epoch 2/10\n",
      "\u001b[1m1491/1491\u001b[0m \u001b[32m━━━━━━━━━━━━━━━━━━━━\u001b[0m\u001b[37m\u001b[0m \u001b[1m6s\u001b[0m 4ms/step - accuracy: 0.2000 - loss: 1.6097 - val_accuracy: 0.2041 - val_loss: 1.6094\n",
      "Epoch 3/10\n",
      "\u001b[1m1491/1491\u001b[0m \u001b[32m━━━━━━━━━━━━━━━━━━━━\u001b[0m\u001b[37m\u001b[0m \u001b[1m5s\u001b[0m 4ms/step - accuracy: 0.2033 - loss: 1.6095 - val_accuracy: 0.2019 - val_loss: 1.6091\n",
      "Epoch 4/10\n",
      "\u001b[1m1491/1491\u001b[0m \u001b[32m━━━━━━━━━━━━━━━━━━━━\u001b[0m\u001b[37m\u001b[0m \u001b[1m5s\u001b[0m 4ms/step - accuracy: 0.1981 - loss: 1.6092 - val_accuracy: 0.2018 - val_loss: 1.6086\n",
      "Epoch 5/10\n",
      "\u001b[1m1491/1491\u001b[0m \u001b[32m━━━━━━━━━━━━━━━━━━━━\u001b[0m\u001b[37m\u001b[0m \u001b[1m5s\u001b[0m 4ms/step - accuracy: 0.2060 - loss: 1.6077 - val_accuracy: 0.1986 - val_loss: 1.6086\n",
      "Epoch 6/10\n",
      "\u001b[1m1491/1491\u001b[0m \u001b[32m━━━━━━━━━━━━━━━━━━━━\u001b[0m\u001b[37m\u001b[0m \u001b[1m5s\u001b[0m 4ms/step - accuracy: 0.1998 - loss: 1.6078 - val_accuracy: 0.2007 - val_loss: 1.6084\n",
      "Epoch 7/10\n",
      "\u001b[1m1491/1491\u001b[0m \u001b[32m━━━━━━━━━━━━━━━━━━━━\u001b[0m\u001b[37m\u001b[0m \u001b[1m5s\u001b[0m 4ms/step - accuracy: 0.1997 - loss: 1.6079 - val_accuracy: 0.1987 - val_loss: 1.6083\n",
      "Epoch 8/10\n",
      "\u001b[1m1491/1491\u001b[0m \u001b[32m━━━━━━━━━━━━━━━━━━━━\u001b[0m\u001b[37m\u001b[0m \u001b[1m6s\u001b[0m 4ms/step - accuracy: 0.1963 - loss: 1.6071 - val_accuracy: 0.1987 - val_loss: 1.6084\n",
      "Epoch 9/10\n",
      "\u001b[1m1491/1491\u001b[0m \u001b[32m━━━━━━━━━━━━━━━━━━━━\u001b[0m\u001b[37m\u001b[0m \u001b[1m5s\u001b[0m 4ms/step - accuracy: 0.1975 - loss: 1.6077 - val_accuracy: 0.2007 - val_loss: 1.6090\n",
      "Epoch 10/10\n",
      "\u001b[1m1491/1491\u001b[0m \u001b[32m━━━━━━━━━━━━━━━━━━━━\u001b[0m\u001b[37m\u001b[0m \u001b[1m5s\u001b[0m 4ms/step - accuracy: 0.2054 - loss: 1.6072 - val_accuracy: 0.1970 - val_loss: 1.6083\n"
     ]
    },
    {
     "data": {
      "text/plain": [
       "<keras.src.callbacks.history.History at 0x78d486a871d0>"
      ]
     },
     "execution_count": 26,
     "metadata": {},
     "output_type": "execute_result"
    }
   ],
   "source": [
    "import tensorflow as tf\n",
    "from tensorflow.keras.models import Sequential\n",
    "from tensorflow.keras.layers import LSTM, Dense, Embedding\n",
    "\n",
    "from tensorflow.keras.preprocessing.text import Tokenizer\n",
    "from tensorflow.keras.preprocessing.sequence import pad_sequences\n",
    "from sklearn.preprocessing import LabelEncoder\n",
    "\n",
    "# Tokenize the text data (e.g., URLs)\n",
    "tokenizer = Tokenizer(oov_token=\"<OOV>\")\n",
    "tokenizer.fit_on_texts(balanced_df['url'])  # Replace 'url' with your column name\n",
    "\n",
    "# Convert URLs to sequences of integers\n",
    "sequences = tokenizer.texts_to_sequences(balanced_df['url'])\n",
    "\n",
    "# Pad sequences to have equal length\n",
    "padded_urls = pad_sequences(sequences, padding='post')\n",
    "# Get the maximum length of any sequence\n",
    "max_length = max([len(seq) for seq in sequences])\n",
    "\n",
    "\n",
    "\n",
    "# Encode labels\n",
    "le = LabelEncoder()\n",
    "encoded_labels = le.fit_transform(balanced_df['type'])  # This replaces strings with ints\n",
    "\n",
    "# For LSTM, use the padded sequences\n",
    "X_train_seq, X_test_seq, y_train_seq, y_test_seq = train_test_split(padded_urls,encoded_labels, test_size=0.2, random_state=42)\n",
    "\n",
    "# Define LSTM model\n",
    "model_lstm = Sequential([\n",
    "    Embedding(input_dim=1000, output_dim=128, input_length=max_length),\n",
    "    LSTM(64),\n",
    "    Dense(len(le.classes_), activation='softmax')\n",
    "])\n",
    "\n",
    "model_lstm.compile(optimizer='adam', loss='sparse_categorical_crossentropy', metrics=['accuracy'])\n",
    "model_lstm.fit(X_train_seq, y_train_seq, epochs=10, batch_size=32, validation_data=(X_test_seq, y_test_seq))\n"
   ]
  },
  {
   "cell_type": "markdown",
   "id": "18c3c671",
   "metadata": {
    "id": "18c3c671"
   },
   "source": [
    "# LLM Based Approach"
   ]
  },
  {
   "cell_type": "code",
   "execution_count": null,
   "id": "d8d2ec46",
   "metadata": {
    "execution": {
     "iopub.execute_input": "2025-04-15T06:42:21.468262Z",
     "iopub.status.busy": "2025-04-15T06:42:21.467531Z"
    },
    "id": "d8d2ec46"
   },
   "outputs": [
    {
     "data": {
      "application/vnd.jupyter.widget-view+json": {
       "model_id": "a940edc11d7b49ac87903db7b2a7c404",
       "version_major": 2,
       "version_minor": 0
      },
      "text/plain": [
       "tokenizer_config.json:   0%|          | 0.00/48.0 [00:00<?, ?B/s]"
      ]
     },
     "metadata": {},
     "output_type": "display_data"
    },
    {
     "data": {
      "application/vnd.jupyter.widget-view+json": {
       "model_id": "87cd9530b5ff4abf9aabe7aaff767336",
       "version_major": 2,
       "version_minor": 0
      },
      "text/plain": [
       "vocab.txt:   0%|          | 0.00/232k [00:00<?, ?B/s]"
      ]
     },
     "metadata": {},
     "output_type": "display_data"
    },
    {
     "data": {
      "application/vnd.jupyter.widget-view+json": {
       "model_id": "2fe1169075284a1487bf8fa0cdb6ee9e",
       "version_major": 2,
       "version_minor": 0
      },
      "text/plain": [
       "tokenizer.json:   0%|          | 0.00/466k [00:00<?, ?B/s]"
      ]
     },
     "metadata": {},
     "output_type": "display_data"
    },
    {
     "data": {
      "application/vnd.jupyter.widget-view+json": {
       "model_id": "12a61dbfbc734c0ca27de52026141689",
       "version_major": 2,
       "version_minor": 0
      },
      "text/plain": [
       "config.json:   0%|          | 0.00/570 [00:00<?, ?B/s]"
      ]
     },
     "metadata": {},
     "output_type": "display_data"
    },
    {
     "name": "stderr",
     "output_type": "stream",
     "text": [
      "Xet Storage is enabled for this repo, but the 'hf_xet' package is not installed. Falling back to regular HTTP download. For better performance, install the package with: `pip install huggingface_hub[hf_xet]` or `pip install hf_xet`\n"
     ]
    },
    {
     "data": {
      "application/vnd.jupyter.widget-view+json": {
       "model_id": "5c37668fadf8489787a83a057119e756",
       "version_major": 2,
       "version_minor": 0
      },
      "text/plain": [
       "model.safetensors:   0%|          | 0.00/440M [00:00<?, ?B/s]"
      ]
     },
     "metadata": {},
     "output_type": "display_data"
    },
    {
     "name": "stderr",
     "output_type": "stream",
     "text": [
      "Some weights of BertForSequenceClassification were not initialized from the model checkpoint at bert-base-uncased and are newly initialized: ['classifier.bias', 'classifier.weight']\n",
      "You should probably TRAIN this model on a down-stream task to be able to use it for predictions and inference.\n"
     ]
    }
   ],
   "source": [
    "from transformers import BertTokenizer, BertForSequenceClassification\n",
    "import torch\n",
    "from torch.utils.data import Dataset, DataLoader\n",
    "from sklearn.preprocessing import LabelEncoder\n",
    "\n",
    "# Load pre-trained BERT tokenizer and model\n",
    "tokenizer = BertTokenizer.from_pretrained('bert-base-uncased')\n",
    "model_bert = BertForSequenceClassification.from_pretrained('bert-base-uncased', num_labels=len(le.classes_))\n",
    "\n",
    "# Prepare data for BERT\n",
    "input_ids = []\n",
    "attention_masks = []\n",
    "\n",
    "for url in balanced_df['url']:\n",
    "    inputs = tokenizer(url, return_tensors='pt', max_length=max_length, padding='max_length', truncation=True)\n",
    "    input_ids.append(inputs['input_ids'].flatten())\n",
    "    attention_masks.append(inputs['attention_mask'].flatten())\n",
    "\n",
    "# Convert to tensors\n",
    "input_ids = torch.stack(input_ids)\n",
    "attention_masks = torch.stack(attention_masks)\n",
    "\n",
    "# Encode the labels using LabelEncoder\n",
    "le = LabelEncoder()\n",
    "labels = le.fit_transform(balanced_df['type_encoded'])\n",
    "\n",
    "# Convert labels to tensor\n",
    "labels = torch.tensor(labels)\n",
    "\n",
    "# Create Dataset class\n",
    "class URLDataset(Dataset):\n",
    "    def __init__(self, input_ids, attention_masks, labels):\n",
    "        self.input_ids = input_ids\n",
    "        self.attention_masks = attention_masks\n",
    "        self.labels = labels\n",
    "\n",
    "    def __len__(self):\n",
    "        return len(self.labels)\n",
    "\n",
    "    def __getitem__(self, idx):\n",
    "        return {\n",
    "            'input_ids': self.input_ids[idx],\n",
    "            'attention_mask': self.attention_masks[idx],\n",
    "            'labels': self.labels[idx]\n",
    "        }\n",
    "\n",
    "# Split the dataset into training and testing\n",
    "train_size = int(0.8 * len(input_ids))\n",
    "test_size = len(input_ids) - train_size\n",
    "train_dataset, test_dataset = torch.utils.data.random_split(URLDataset(input_ids, attention_masks, labels), [train_size, test_size])\n",
    "\n",
    "train_loader = DataLoader(train_dataset, batch_size=16, shuffle=True)\n",
    "test_loader = DataLoader(test_dataset, batch_size=16, shuffle=False)\n",
    "\n",
    "# Train BERT model\n",
    "device = torch.device('cuda' if torch.cuda.is_available() else 'cpu')\n",
    "model_bert.to(device)\n",
    "\n",
    "criterion = torch.nn.CrossEntropyLoss()  # Use CrossEntropyLoss for multi-class classification\n",
    "optimizer = torch.optim.Adam(model_bert.parameters(), lr=1e-5)\n",
    "\n",
    "# Training loop\n",
    "for epoch in range(5):\n",
    "    model_bert.train()\n",
    "    total_loss = 0\n",
    "    for batch in train_loader:\n",
    "        input_ids = batch['input_ids'].to(device)\n",
    "        attention_mask = batch['attention_mask'].to(device)\n",
    "        labels = batch['labels'].to(device)\n",
    "\n",
    "        optimizer.zero_grad()\n",
    "\n",
    "        outputs = model_bert(input_ids, attention_mask=attention_mask, labels=labels)\n",
    "        loss = outputs.loss  # This is a tuple (loss, logits), we need to use loss directly\n",
    "\n",
    "        loss.backward()\n",
    "        optimizer.step()\n",
    "\n",
    "        total_loss += loss.item()\n",
    "    print(f\"Epoch {epoch+1}, Loss: {total_loss / len(train_loader)}\")\n",
    "\n",
    "# Evaluation (for example)\n",
    "model_bert.eval()\n",
    "correct = 0\n",
    "total = 0\n",
    "with torch.no_grad():\n",
    "    for batch in test_loader:\n",
    "        input_ids = batch['input_ids'].to(device)\n",
    "        attention_mask = batch['attention_mask'].to(device)\n",
    "        labels = batch['labels'].to(device)\n",
    "\n",
    "        outputs = model_bert(input_ids, attention_mask=attention_mask)\n",
    "        logits = outputs.logits\n",
    "        predictions = torch.argmax(logits, dim=-1)\n",
    "\n",
    "        correct += (predictions == labels).sum().item()\n",
    "        total += labels.size(0)\n",
    "\n",
    "accuracy = correct / total\n",
    "print(f'Accuracy: {accuracy:.4f}')\n"
   ]
  },
  {
   "cell_type": "markdown",
   "id": "fd0aff97",
   "metadata": {
    "id": "fd0aff97"
   },
   "source": [
    "# Visualizations"
   ]
  },
  {
   "cell_type": "code",
   "execution_count": 27,
   "id": "ec0b44c5-86eb-4c55-85be-7070df307198",
   "metadata": {
    "execution": {
     "iopub.execute_input": "2025-04-15T06:40:00.644330Z",
     "iopub.status.busy": "2025-04-15T06:40:00.643615Z",
     "iopub.status.idle": "2025-04-15T06:40:01.052256Z",
     "shell.execute_reply": "2025-04-15T06:40:01.051456Z",
     "shell.execute_reply.started": "2025-04-15T06:40:00.644299Z"
    }
   },
   "outputs": [
    {
     "data": {
      "image/png": "[encoded data removed]",
      "text/plain": [
       "<Figure size 800x600 with 2 Axes>"
      ]
     },
     "metadata": {},
     "output_type": "display_data"
    },
    {
     "data": {
      "image/png": "[encoded data removed]",
      "text/plain": [
       "<Figure size 800x600 with 1 Axes>"
      ]
     },
     "metadata": {},
     "output_type": "display_data"
    }
   ],
   "source": [
    "import numpy as np\n",
    "import seaborn as sns\n",
    "import matplotlib.pyplot as plt\n",
    "from sklearn.metrics import confusion_matrix, roc_curve, auc\n",
    "\n",
    "# Use your trained model (e.g., XGBoost)\n",
    "xgb_model = models['XGBoost']  \n",
    "\n",
    "y_pred_proba = xgb_model.predict_proba(X_test)\n",
    "y_pred = np.argmax(y_pred_proba, axis=1)\n",
    "\n",
    "# Confusion Matrix\n",
    "conf_mat = confusion_matrix(y_test, y_pred)\n",
    "plt.figure(figsize=(8, 6))\n",
    "sns.heatmap(conf_mat, annot=True, cmap='coolwarm', square=True, xticklabels=le.classes_, yticklabels=le.classes_)\n",
    "plt.title('Confusion Matrix')\n",
    "plt.xlabel('Predicted')\n",
    "plt.ylabel('True')\n",
    "plt.show()\n",
    "\n",
    "# ROC Curve for multi-class\n",
    "fpr = dict()\n",
    "tpr = dict()\n",
    "roc_auc = dict()\n",
    "\n",
    "for i in range(len(le.classes_)):\n",
    "    fpr[i], tpr[i], _ = roc_curve(y_test == i, y_pred_proba[:, i])\n",
    "    roc_auc[i] = auc(fpr[i], tpr[i])\n",
    "\n",
    "plt.figure(figsize=(8, 6))\n",
    "for i in range(len(le.classes_)):\n",
    "    plt.plot(fpr[i], tpr[i], label=f'{le.classes_[i]} (AUC = {roc_auc[i]:.2f})')\n",
    "plt.plot([0, 1], [0, 1], 'k--')\n",
    "plt.xlabel('False Positive Rate')\n",
    "plt.ylabel('True Positive Rate')\n",
    "plt.title('ROC Curve')\n",
    "plt.legend()\n",
    "plt.grid()\n",
    "plt.show()\n"
   ]
  },
  {
   "cell_type": "code",
   "execution_count": null,
   "id": "2c2670d8-dc30-47d9-90de-b86c175b1e43",
   "metadata": {},
   "outputs": [],
   "source": []
  }
 ],
 "metadata": {
  "accelerator": "GPU",
  "colab": {
   "gpuType": "T4",
   "provenance": []
  },
  "kaggle": {
   "accelerator": "gpu",
   "dataSources": [
    {
     "datasetId": 7120981,
     "sourceId": 11374503,
     "sourceType": "datasetVersion"
    },
    {
     "datasetId": 7121005,
     "sourceId": 11374532,
     "sourceType": "datasetVersion"
    },
    {
     "datasetId": 7138171,
     "sourceId": 11397539,
     "sourceType": "datasetVersion"
    },
    {
     "datasetId": 7138199,
     "sourceId": 11397581,
     "sourceType": "datasetVersion"
    }
   ],
   "dockerImageVersionId": 31011,
   "isGpuEnabled": true,
   "isInternetEnabled": true,
   "language": "python",
   "sourceType": "notebook"
  },
  "kernelspec": {
   "display_name": "Python 3 (ipykernel)",
   "language": "python",
   "name": "python3"
  },
  "language_info": {
   "codemirror_mode": {
    "name": "ipython",
    "version": 3
   },
   "file_extension": ".py",
   "mimetype": "text/x-python",
   "name": "python",
   "nbconvert_exporter": "python",
   "pygments_lexer": "ipython3",
   "version": "3.11.4"
  }
 },
 "nbformat": 4,
 "nbformat_minor": 5
}
